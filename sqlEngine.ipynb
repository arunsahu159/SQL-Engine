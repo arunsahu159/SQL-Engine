{
 "cells": [
  {
   "cell_type": "code",
   "execution_count": 2,
   "metadata": {},
   "outputs": [],
   "source": [
    "import pandas as pd"
   ]
  },
  {
   "cell_type": "code",
   "execution_count": 3,
   "metadata": {},
   "outputs": [],
   "source": [
    "import itertools\n",
    "def crossProduct(files,df1,df2):\n",
    "    CPdf = pd.DataFrame(columns= list(files[0][:-3]+df1.columns)+list(files[1][:-3]+df2.columns),index=range(df1.shape[0]*df2.shape[0]))\n",
    "    i,j,k=0,0,0\n",
    "    for i, j in itertools.product(range(df1.shape[0]), range(df2.shape[0])):\n",
    "        CPdf.iloc[k] = list(df1.iloc[i])+list(df2.iloc[j])\n",
    "        k+=1\n",
    "    \n",
    "    return CPdf"
   ]
  },
  {
   "cell_type": "code",
   "execution_count": 4,
   "metadata": {},
   "outputs": [],
   "source": [
    "def NaturalJoin(files,df1,df2):\n",
    "    # Check common attributes\n",
    "    comm_attr=[]\n",
    "    for attributes in list(df1.columns):\n",
    "        if attributes in list(df2.columns):\n",
    "            comm_attr.append(attributes)\n",
    "\n",
    "    if len(comm_attr) == 0:\n",
    "        return crossProduct(files,df1,df2)\n",
    "    else:\n",
    "        df2.drop(comm_attr,axis=1).to_csv('after_drop.csv',index=False)\n",
    "        temp = pd.read_csv('after_drop.csv')\n",
    "        result_attri = (list(files[0][:-3]+df1.columns)) + (list(files[1][:-3]+temp.columns))\n",
    "        nj_df = pd.DataFrame(columns = result_attri,index = range(df1.shape[0]*temp.shape[0]))\n",
    "\n",
    "        k=0\n",
    "        for i in range(df1.shape[0]):\n",
    "            for j in range(df2.shape[0]):\n",
    "                if set(df1.loc[i,comm_attr]) == set(df2.loc[j,comm_attr]):    \n",
    "                    nj_df.loc[k] = (list(df1.loc[i]) + list(temp.loc[j]))\n",
    "                    # print(nj_df.loc[k])\n",
    "                    k+=1\n",
    "\n",
    "        # Extra rows drop it!!\n",
    "        nj_df.drop(range(k,df1.shape[0]*temp.shape[0]),axis=0,inplace=True)\n",
    "\n",
    "        return nj_df\n",
    "        \n",
    "    "
   ]
  },
  {
   "cell_type": "code",
   "execution_count": 6,
   "metadata": {},
   "outputs": [],
   "source": [
    "# query = input('Give sql query')\n",
    "query = \"\"\"SELECT Name.Age FROM Name.csv CROSS PRODUCT own.csv WHERE Name.Age == 24\"\"\"\n",
    "query2 = \"\"\"SELECT * FROM bank_1.csv Natural Join bank_2.csv WHERE bank_2.age > 30 ORDER BY bank_1.job ASC\"\"\""
   ]
  },
  {
   "cell_type": "code",
   "execution_count": 7,
   "metadata": {},
   "outputs": [],
   "source": [
    "def sqlParser(q):\n",
    "    keyWords = q.split(' ')\n",
    "    \"\"\"\n",
    "    Selecting the Attributes \n",
    "    \"\"\"\n",
    "    star = '*'\n",
    "    starValue = False\n",
    "    attributes=[]\n",
    "    if star in keyWords:\n",
    "        starValue = True\n",
    "    else:\n",
    "        attributes = keyWords[1:keyWords.index('FROM')]\n",
    "\n",
    "    \"\"\"\n",
    "    Selecting the .csv files from the query\n",
    "    \"\"\"\n",
    "    i=0\n",
    "    dotCSV = '.csv'\n",
    "    filename = [keyWords[i] for i in range(len(keyWords)) if dotCSV in keyWords[i]]\n",
    "    \"\"\"\n",
    "    Selecting the WHERE clause\n",
    "    \"\"\"\n",
    "    where = \"WHERE\"\n",
    "    whereClause= []\n",
    "    orderby = []\n",
    "    if where in q:\n",
    "        indexWhere = keyWords.index(\"WHERE\")\n",
    "        whereClause = keyWords[1+indexWhere:]\n",
    "\n",
    "        ordby = 'BY'\n",
    "        if ordby in whereClause:\n",
    "            indexorderby = whereClause.index(\"BY\")\n",
    "            orderclause = whereClause[indexorderby+1:]\n",
    "    return keyWords,starValue, attributes, filename, whereClause,orderclause"
   ]
  },
  {
   "cell_type": "code",
   "execution_count": 9,
   "metadata": {},
   "outputs": [],
   "source": [
    "def order_by(orderby,df):\n",
    "    df = df.astype(str)\n",
    "    if ( orderby[1] == 'ASC'):\n",
    "        df.sort_values(by=orderby[0], inplace = True, ascending=True)\n",
    "    elif (orderby[1] == 'DESC'): \n",
    "        df.sort_values(by=orderby[0], inplace = True, ascending=False)\n",
    "        df.to_csv('./order.csv',index=False)\n",
    "    return df"
   ]
  },
  {
   "cell_type": "code",
   "execution_count": 10,
   "metadata": {},
   "outputs": [],
   "source": [
    "def wherefunc(where,df):\n",
    "\n",
    "    op = where[1]\n",
    "    attri = where[0]\n",
    "    where_df = pd.DataFrame(columns=list(df.columns),index=range(df.shape[0]))\n",
    "    df = df.astype(str)\n",
    "    value = where[2]\n",
    "    \n",
    "    k=0\n",
    "    for i in range(df.shape[0]):\n",
    "        if op == '<=':\n",
    "            if df.loc[i,attri] <= value:\n",
    "                where_df.loc[k] = list(df.loc[i])\n",
    "                k+=1\n",
    "        elif op == '=':\n",
    "            if df.loc[i,attri] == value:\n",
    "                where_df.loc[k] = list(df.loc[i])\n",
    "                k+=1\n",
    "        elif op == '>':\n",
    "            if df.loc[i,attri] > value:\n",
    "                where_df.loc[k] = list(df.loc[i])\n",
    "                k+=1\n",
    "        elif op == '>=':\n",
    "            if df.loc[i,attri] >= value:\n",
    "                where_df.loc[k] = list(df.loc[i])\n",
    "                k+=1\n",
    "        elif df.loc[i,attri] < value:\n",
    "            where_df.loc[k] = list(df.loc[i])\n",
    "            k+=1        \n",
    "    where_df.drop(range(k,df.shape[0]),inplace=True)\n",
    "    return where_df"
   ]
  },
  {
   "cell_type": "code",
   "execution_count": 11,
   "metadata": {},
   "outputs": [],
   "source": [
    "key,s,attr,files,where,order = sqlParser(query2)\n",
    "\n",
    "df1 = pd.read_csv(files[0])\n",
    "df2 = pd.read_csv(files[1])\n",
    "# From part\n",
    "if 'CROSS' in key:\n",
    "    result = crossProduct(files,df1,df2)\n",
    "else:\n",
    "    result = NaturalJoin(files,df1,df2)\n",
    "\n",
    "if len(where)!=0:\n",
    "    out = wherefunc(where,result)\n",
    "\n",
    "if len(order)!=0:\n",
    "    out = order_by(order,out)\n",
    "# if all attribute\n",
    "if s :\n",
    "     out.to_csv('output.csv',index=False)\n",
    "# only selected attributes\n",
    "else:\n",
    "    out.to_csv('output.csv',columns=attr,index=False)\n",
    "# out.head()"
   ]
  }
 ],
 "metadata": {
  "kernelspec": {
   "display_name": "base",
   "language": "python",
   "name": "python3"
  },
  "language_info": {
   "codemirror_mode": {
    "name": "ipython",
    "version": 3
   },
   "file_extension": ".py",
   "mimetype": "text/x-python",
   "name": "python",
   "nbconvert_exporter": "python",
   "pygments_lexer": "ipython3",
   "version": "3.12.4"
  },
  "orig_nbformat": 4,
  "vscode": {
   "interpreter": {
    "hash": "8ba759e3238eb6275562be32a56bf6004a92c9b095740c5af11a0780808a688b"
   }
  }
 },
 "nbformat": 4,
 "nbformat_minor": 2
}
